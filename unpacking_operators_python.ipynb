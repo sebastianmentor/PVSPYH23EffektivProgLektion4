{
 "cells": [
  {
   "cell_type": "markdown",
   "id": "6ff8360d",
   "metadata": {},
   "source": [
    "\n",
    "# Användning av `*` och `**` i Python\n",
    "\n",
    "I denna notebook går vi igenom hur operatorerna `*` och `**` kan användas i Python. Dessa operatorer är kraftfulla verktyg för att hantera uppackning av data, kombinera strukturer och skapa flexibla funktioner.\n",
    "\n",
    "## 1. Uppackning vid tilldelning\n",
    "\n",
    "`*` kan användas för att plocka ut delar av en\n",
    "lista eller tuple vid tilldelning:\n",
    "    \n"
   ]
  },
  {
   "cell_type": "markdown",
   "id": "afd208f4",
   "metadata": {},
   "source": [
    "\n",
    "```python\n",
    "# Exempel 1: Plocka ut det första värdet och samla resten\n",
    "första, *resten = [1, 2, 3, 4, 5]\n",
    "print(första)  # Output: 1\n",
    "print(resten)  # Output: [2, 3, 4, 5]\n",
    "\n",
    "# Exempel 2: Plocka ut det sista värdet och samla resten\n",
    "*första, sista = [1, 2, 3, 4, 5]\n",
    "print(första)  # Output: [1, 2, 3, 4]\n",
    "print(sista)   # Output: 5\n",
    "```\n",
    "    "
   ]
  },
  {
   "cell_type": "markdown",
   "id": "4fd1b179",
   "metadata": {},
   "source": [
    "\n",
    "## 2. Slå ihop listor med `*`\n",
    "\n",
    "Du kan använda `*` för att kombinera eller slå ihop itererbara objekt (som listor):\n",
    "    "
   ]
  },
  {
   "cell_type": "markdown",
   "id": "017e6b7c",
   "metadata": {},
   "source": [
    "\n",
    "```python\n",
    "lista1 = [1, 2, 3]\n",
    "lista2 = [4, 5, 6]\n",
    "kombinerad_lista = [*lista1, *lista2]\n",
    "print(kombinerad_lista)  # Output: [1, 2, 3, 4, 5, 6]\n",
    "```\n",
    "    "
   ]
  },
  {
   "cell_type": "markdown",
   "id": "cb5516f3",
   "metadata": {},
   "source": [
    "\n",
    "## 3. Skapa dictionaries med `**`\n",
    "\n",
    "På samma sätt kan `**` användas för att slå ihop dictionaries:\n",
    "    "
   ]
  },
  {
   "cell_type": "markdown",
   "id": "fcd1289f",
   "metadata": {},
   "source": [
    "\n",
    "```python\n",
    "dict1 = {'a': 1, 'b': 2}\n",
    "dict2 = {'c': 3, 'd': 4}\n",
    "kombinerad_dict = {**dict1, **dict2}\n",
    "print(kombinerad_dict)  # Output: {'a': 1, 'b': 2, 'c': 3, 'd': 4}\n",
    "```\n",
    "    "
   ]
  },
  {
   "cell_type": "markdown",
   "id": "ab9ddfd7",
   "metadata": {},
   "source": [
    "\n",
    "## 4. Variabelt antal parametrar i funktioner\n",
    "\n",
    "Kombinera `*args` och `**kwargs` för att skapa funktioner som kan hantera ett variabelt antal både positionella och namngivna argument:\n",
    "    "
   ]
  },
  {
   "cell_type": "markdown",
   "id": "2601b89f",
   "metadata": {},
   "source": [
    "\n",
    "```python\n",
    "def flexibel_funktion(*args, **kwargs):\n",
    "    print(f\"Positionella argument: {args}\")\n",
    "    print(f\"Namngivna argument: {kwargs}\")\n",
    "\n",
    "flexibel_funktion(1, 2, 3, a=4, b=5)  \n",
    "# Output:\n",
    "# Positionella argument: (1, 2, 3)\n",
    "# Namngivna argument: {'a': 4, 'b': 5}\n",
    "```\n",
    "    "
   ]
  },
  {
   "cell_type": "markdown",
   "id": "caff8da2",
   "metadata": {},
   "source": [
    "\n",
    "## 5. Funktioner som vidarebefordrar argument\n",
    "\n",
    "Använd `*args` och `**kwargs` för att vidarebefordra alla argument från en wrapper-funktion till en annan funktion:\n",
    "    "
   ]
  },
  {
   "cell_type": "markdown",
   "id": "7d0f64e0",
   "metadata": {},
   "source": [
    "\n",
    "```python\n",
    "def logga_och_kalla_funktion(funktion, *args, **kwargs):\n",
    "    print(f\"Kallar funktion: {funktion.__name__} med args: {args} och kwargs: {kwargs}\")\n",
    "    return funktion(*args, **kwargs)\n",
    "\n",
    "def addera(a, b):\n",
    "    return a + b\n",
    "\n",
    "resultat = logga_och_kalla_funktion(addera, 5, 3)\n",
    "# Output: Kallar funktion: addera med args: (5, 3) och kwargs: {}\n",
    "print(resultat)  # Output: 8\n",
    "```\n",
    "    "
   ]
  },
  {
   "cell_type": "markdown",
   "id": "c50f33b5",
   "metadata": {},
   "source": [
    "\n",
    "## 6. Avancerad list-/tuplestrukturering\n",
    "\n",
    "När du har komplexa strukturer kan du använda `*` för att strukturera uppackningen på olika nivåer:\n",
    "    "
   ]
  },
  {
   "cell_type": "markdown",
   "id": "2eba89b9",
   "metadata": {},
   "source": [
    "\n",
    "```python\n",
    "data = [1, [2, 3, 4], 5]\n",
    "\n",
    "första, [*mellan], sista = data\n",
    "första, [*mellan], sista = data\n",
    "print(första)   # Output: 1\n",
    "print(mellan)   # Output: [2, 3, 4]\n",
    "print(sista)    # Output: 5\n",
    "```\n",
    "    "
   ]
  },
  {
   "cell_type": "markdown",
   "id": "0107ea4c",
   "metadata": {},
   "source": [
    "\n",
    "## 7. Avlägsna överflödiga nycklar från en dictionary\n",
    "\n",
    "Om du vill skapa en ny dictionary utan vissa nycklar kan du använda uppackning med `**`:\n",
    "    "
   ]
  },
  {
   "cell_type": "markdown",
   "id": "fe262c3c",
   "metadata": {},
   "source": [
    "```python\n",
    "ursprunglig_dict = {'a': 1, 'b': 2, 'c': 3}\n",
    "ny_dict = {k: v for k, v in ursprunglig_dict.items() if k != 'b'}\n",
    "print(ny_dict)  # Output: {'a': 1, 'c': 3}\n",
    "```\n",
    "    "
   ]
  },
  {
   "cell_type": "markdown",
   "id": "7bd3a47e",
   "metadata": {},
   "source": [
    "\n",
    "## Sammanfattning\n",
    "\n",
    "- `*` kan packa upp sekvenser, slå ihop listor, och hjälpa vid strukturerad tilldelning.\n",
    "- `**` kan användas för att packa upp dictionaries, kombinera dictionaries och hantera namngivna argument flexibelt.\n",
    "- Båda dessa operatorer är mycket kraftfulla för att skriva mer flexibel och renare kod.\n"
   ]
  }
 ],
 "metadata": {
  "language_info": {
   "name": "python"
  }
 },
 "nbformat": 4,
 "nbformat_minor": 5
}
